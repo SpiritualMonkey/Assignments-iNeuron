{
 "cells": [
  {
   "cell_type": "code",
   "execution_count": 1,
   "id": "005df317",
   "metadata": {},
   "outputs": [],
   "source": [
    "a = 10"
   ]
  },
  {
   "cell_type": "code",
   "execution_count": 3,
   "id": "d1c1e82f",
   "metadata": {},
   "outputs": [
    {
     "data": {
      "text/plain": [
       "True"
      ]
     },
     "execution_count": 3,
     "metadata": {},
     "output_type": "execute_result"
    }
   ],
   "source": [
    "a < 15"
   ]
  },
  {
   "cell_type": "code",
   "execution_count": 4,
   "id": "bc55b222",
   "metadata": {},
   "outputs": [
    {
     "ename": "SyntaxError",
     "evalue": "invalid syntax (Temp/ipykernel_8784/3191224811.py, line 1)",
     "output_type": "error",
     "traceback": [
      "\u001b[1;36m  File \u001b[1;32m\"C:\\Users\\rohan\\AppData\\Local\\Temp/ipykernel_8784/3191224811.py\"\u001b[1;36m, line \u001b[1;32m1\u001b[0m\n\u001b[1;33m    if a < 15\u001b[0m\n\u001b[1;37m             ^\u001b[0m\n\u001b[1;31mSyntaxError\u001b[0m\u001b[1;31m:\u001b[0m invalid syntax\n"
     ]
    }
   ],
   "source": [
    "if a < 15\n",
    "    print(\"my name is sudhanshu \")\n"
   ]
  },
  {
   "cell_type": "code",
   "execution_count": 5,
   "id": "d0f3f432",
   "metadata": {},
   "outputs": [],
   "source": [
    "if a < 15:\n",
    "    pass"
   ]
  },
  {
   "cell_type": "code",
   "execution_count": 7,
   "id": "0908b530",
   "metadata": {},
   "outputs": [
    {
     "name": "stdout",
     "output_type": "stream",
     "text": [
      "my name is sudh\n"
     ]
    }
   ],
   "source": [
    "if a < 15:\n",
    "    print(\"my name is sudh\")"
   ]
  },
  {
   "cell_type": "code",
   "execution_count": 10,
   "id": "2968c86b",
   "metadata": {},
   "outputs": [],
   "source": [
    "if 24 < 15:\n",
    "    print(\"my name is sudh\")"
   ]
  },
  {
   "cell_type": "code",
   "execution_count": 13,
   "id": "0c28ff27",
   "metadata": {},
   "outputs": [
    {
     "name": "stdout",
     "output_type": "stream",
     "text": [
      "if statement is wrong\n"
     ]
    }
   ],
   "source": [
    "if 10 < 3:\n",
    "    print(\"10 is lesser than 3\")\n",
    "else:\n",
    "    print(\"if statement is wrong\")"
   ]
  },
  {
   "cell_type": "code",
   "execution_count": 14,
   "id": "56ee4ce9",
   "metadata": {},
   "outputs": [
    {
     "name": "stdout",
     "output_type": "stream",
     "text": [
      "10 is lesser than 3\n"
     ]
    }
   ],
   "source": [
    "if 5 < 10:\n",
    "    print(\"10 is lesser than 3\")\n",
    "else:\n",
    "    print(\"if statement is wrong\")"
   ]
  },
  {
   "cell_type": "code",
   "execution_count": 16,
   "id": "2700f299",
   "metadata": {},
   "outputs": [
    {
     "name": "stdout",
     "output_type": "stream",
     "text": [
      "I will be able to buy anything\n"
     ]
    }
   ],
   "source": [
    "income = 100\n",
    "if income < 50:\n",
    "    print(\"I will be able to buy phone\")\n",
    "elif income < 70:\n",
    "    print(\"I will be able to buy car\")\n",
    "elif income < 90:\n",
    "    print(\"I will be able to rent a house\")\n",
    "else:\n",
    "    print(\"I wont be able to buy anything\")"
   ]
  },
  {
   "cell_type": "code",
   "execution_count": 17,
   "id": "34de728d",
   "metadata": {},
   "outputs": [
    {
     "name": "stdout",
     "output_type": "stream",
     "text": [
      "10\n",
      "I will be able to buy phone\n"
     ]
    }
   ],
   "source": [
    "income = int(input())\n",
    "if income < 50:\n",
    "    print(\"I will be able to buy phone\")\n",
    "elif income < 70:\n",
    "    print(\"I will be able to buy car\")\n",
    "elif income < 90:\n",
    "    print(\"I will be able to rent a house\")\n",
    "else:\n",
    "    print(\"I wont be able to buy anything\")"
   ]
  },
  {
   "cell_type": "code",
   "execution_count": 18,
   "id": "f4022cb1",
   "metadata": {},
   "outputs": [
    {
     "name": "stdout",
     "output_type": "stream",
     "text": [
      "3525\n",
      "Discount will be 176.25\n"
     ]
    }
   ],
   "source": [
    "Total_price = int(input())\n",
    "if Total_price > 20000:\n",
    "    discount = Total_price * .20\n",
    "    print(\"Discount will be\",discount)\n",
    "elif Total_price <= 7000:\n",
    "    discount = Total_price * .05\n",
    "    print(\"Discount will be\",discount)\n",
    "else:\n",
    "    print(\"wont be able to give any discount\")"
   ]
  },
  {
   "cell_type": "code",
   "execution_count": 20,
   "id": "1dd9eed0",
   "metadata": {},
   "outputs": [
    {
     "name": "stdout",
     "output_type": "stream",
     "text": [
      "178\n",
      "Discount will be 8.9\n"
     ]
    }
   ],
   "source": [
    "Total_price = int(input())\n",
    "if Total_price > 20000:\n",
    "    discount = Total_price * .20\n",
    "    print(\"Discount will be\",discount)\n",
    "elif Total_price <= 7000:\n",
    "    discount = Total_price * .05\n",
    "    print(\"Discount will be\",discount)\n",
    "else:\n",
    "    print(\"wont be able to give any discount\")"
   ]
  },
  {
   "cell_type": "code",
   "execution_count": 22,
   "id": "68b0ec61",
   "metadata": {},
   "outputs": [
    {
     "name": "stdout",
     "output_type": "stream",
     "text": [
      "You will be get a discount a 5%\n",
      "You will be able to get aone nueron with this amount  6726.0\n"
     ]
    }
   ],
   "source": [
    "coup = \"SUDHANSHU5\"\n",
    "if coup == \"SUDHANSHU5\":\n",
    "    print(\"You will be get a discount a 5%\")\n",
    "    paid_amount = 7080 - 7080 * 0.05\n",
    "    print(\"You will be able to get aone nueron with this amount \",paid_amount)\n",
    "else:\n",
    "    print(\"kindly use a vaild coupoun code\")"
   ]
  },
  {
   "cell_type": "code",
   "execution_count": 23,
   "id": "356a80af",
   "metadata": {},
   "outputs": [
    {
     "name": "stdout",
     "output_type": "stream",
     "text": [
      "SUDHANSHU5\n",
      "You will be get a discount a 5%\n",
      "You will be able to get aone nueron with this amount  6726.0\n"
     ]
    }
   ],
   "source": [
    "coup = input()\n",
    "if coup == \"SUDHANSHU5\":\n",
    "    print(\"You will be get a discount a 5%\")\n",
    "    paid_amount = 7080 - 7080 * 0.05\n",
    "    print(\"You will be able to get aone nueron with this amount \",paid_amount)\n",
    "else:\n",
    "    print(\"kindly use a vaild coupoun code\")"
   ]
  },
  {
   "cell_type": "code",
   "execution_count": 24,
   "id": "02ad37bb",
   "metadata": {},
   "outputs": [
    {
     "name": "stdout",
     "output_type": "stream",
     "text": [
      "sbbsb\n",
      "kindly use a vaild coupoun code\n"
     ]
    }
   ],
   "source": [
    "coup = input()\n",
    "if coup == \"SUDHANSHU5\":\n",
    "    print(\"You will be get a discount a 5%\")\n",
    "    paid_amount = 7080 - 7080 * 0.05\n",
    "    print(\"You will be able to get aone nueron with this amount \",paid_amount)\n",
    "else:\n",
    "    print(\"kindly use a vaild coupoun code\")"
   ]
  },
  {
   "cell_type": "code",
   "execution_count": 27,
   "id": "b571b0a1",
   "metadata": {},
   "outputs": [
    {
     "name": "stdout",
     "output_type": "stream",
     "text": [
      "2\n",
      "It may take 6 month of time for transition\n"
     ]
    }
   ],
   "source": [
    "study_hour = int(input())\n",
    "if study_hour < 1:\n",
    "    print(\"It may take 8-9 month of time to make a transition\")\n",
    "elif study_hour < 4 and study_hour > 1:\n",
    "    print(\"It may take 6 month of time for transition\")\n",
    "elif study_hour > 10:\n",
    "    print(\"It may take 3 month of time for transition\")\n",
    "else:\n",
    "    print(\"it will be difficult\")"
   ]
  },
  {
   "cell_type": "code",
   "execution_count": 28,
   "id": "d32a3c99",
   "metadata": {},
   "outputs": [
    {
     "name": "stdout",
     "output_type": "stream",
     "text": [
      "vaild\n"
     ]
    }
   ],
   "source": [
    "a = 9\n",
    "if a == 9 : print(\"vaild\")"
   ]
  },
  {
   "cell_type": "code",
   "execution_count": 2,
   "id": "71d63464",
   "metadata": {},
   "outputs": [
    {
     "name": "stdout",
     "output_type": "stream",
     "text": [
      "enter a string to startonenueron\n",
      "enter a course nameDSA\n",
      "yes its available under one nueron and in mutiple mode for job preparation and core concepts.\n"
     ]
    }
   ],
   "source": [
    "s = input(\"enter a string to start: \")\n",
    "if s == \"onenueron\":\n",
    "    course = input(\"enter a course name: \")\n",
    "    if course == \"DSA\":\n",
    "        print(\"yes its available under one nueron and in mutiple mode for job preparation and core concepts.\")\n",
    "    elif course == \"Blockchain\":\n",
    "        print(\"this is not available as of now,kindly raise your demands and we will fulfill in 60 days\")\n",
    "    elif course == \"FSDS\":\n",
    "        print(\"yes its available , you can start learning\")\n",
    "    else:\n",
    "        print(\"this course is not available kindly raise your demand\")\n",
    "elif s == \"onenueronservice\":\n",
    "    service = input(\"enter a service name: \")\n",
    "    if service == \"courserequest\":\n",
    "        print(\"NOTE: Dear Learner, you can raise demand related to any new course, and we will fulfill in 60 days.\")\n",
    "    elif service == \"module\":\n",
    "        print(\"NOTE: Dear Learner, you can raise demand related to any new course module, and we will fulfill in 30 days.\")\n",
    "    elif service == \"doubt\":\n",
    "        print(\"NOTE: Dear Learner, you can raise demand related to doubt clearing, and we will fulfill in 24 hours.\")\n",
    "    else:\n",
    "        print(\"NOTE: Dear Learner, you can raise demand related to any new course, and we will fulfill in 60 days.\")\n",
    "else:\n",
    "    print(\"kindly connect with our team\")"
   ]
  },
  {
   "cell_type": "code",
   "execution_count": 1,
   "id": "6fb04d27",
   "metadata": {},
   "outputs": [
    {
     "name": "stdout",
     "output_type": "stream",
     "text": [
      "enter a string to start: onenueronservice\n",
      "enter a service name: module\n",
      "NOTE: Dear Learner, you can raise demand related to any new course module, and we will fulfill in 30 days.\n"
     ]
    }
   ],
   "source": [
    "s = input(\"enter a string to start: \")\n",
    "if s == \"onenueron\":\n",
    "    course = input(\"enter a course name: \")\n",
    "    if course == \"DSA\":\n",
    "        print(\"yes its available under one nueron and in mutiple mode for job preparation and core concepts.\")\n",
    "    elif course == \"Blockchain\":\n",
    "        print(\"this is not available as of now,kindly raise your demands and we will fulfill in 60 days\")\n",
    "    elif course == \"FSDS\":\n",
    "        print(\"yes its available , you can start learning\")\n",
    "    else:\n",
    "        print(\"this course is not available kindly raise your demand\")\n",
    "elif s == \"onenueronservice\":\n",
    "    service = input(\"enter a service name: \")\n",
    "    if service == \"courserequest\":\n",
    "        print(\"NOTE: Dear Learner, you can raise demand related to any new course, and we will fulfill in 60 days.\")\n",
    "    elif service == \"module\":\n",
    "        print(\"NOTE: Dear Learner, you can raise demand related to any new course module, and we will fulfill in 30 days.\")\n",
    "    elif service == \"doubt\":\n",
    "        print(\"NOTE: Dear Learner, you can raise demand related to doubt clearing, and we will fulfill in 24 hours.\")\n",
    "    else:\n",
    "        print(\"NOTE: Dear Learner, you can raise demand related to any new course, and we will fulfill in 60 days.\")\n",
    "else:\n",
    "    print(\"kindly connect with our team\")"
   ]
  },
  {
   "cell_type": "code",
   "execution_count": 2,
   "id": "d70e8737",
   "metadata": {},
   "outputs": [
    {
     "name": "stdout",
     "output_type": "stream",
     "text": [
      "1\n",
      "2\n",
      "3\n",
      "4\n",
      "5\n",
      "6\n",
      "7\n"
     ]
    }
   ],
   "source": [
    "l = [1,2,3,4,5,6,7]\n",
    "for i in l :\n",
    "    print(i)"
   ]
  },
  {
   "cell_type": "code",
   "execution_count": 3,
   "id": "02da2685",
   "metadata": {},
   "outputs": [
    {
     "name": "stdout",
     "output_type": "stream",
     "text": [
      "S\n",
      "u\n",
      "d\n",
      "h\n"
     ]
    }
   ],
   "source": [
    "s = \"Sudh\"\n",
    "for i in s :\n",
    "    print(i)"
   ]
  },
  {
   "cell_type": "code",
   "execution_count": 4,
   "id": "1a289f8e",
   "metadata": {},
   "outputs": [],
   "source": [
    "t = (1,2,3,4,5,6)"
   ]
  },
  {
   "cell_type": "code",
   "execution_count": 5,
   "id": "91561d01",
   "metadata": {},
   "outputs": [
    {
     "name": "stdout",
     "output_type": "stream",
     "text": [
      "1\n",
      "2\n",
      "3\n",
      "4\n",
      "5\n",
      "6\n"
     ]
    }
   ],
   "source": [
    "for i in t :\n",
    "    print(i)"
   ]
  },
  {
   "cell_type": "code",
   "execution_count": 9,
   "id": "f963d538",
   "metadata": {},
   "outputs": [
    {
     "name": "stdout",
     "output_type": "stream",
     "text": [
      "<class 'int'>\n",
      "<class 'int'>\n",
      "<class 'float'>\n",
      "<class 'complex'>\n",
      "<class 'str'>\n"
     ]
    }
   ],
   "source": [
    "l = [1,4,5.6,4.7j,\"sudh\"]\n",
    "for i in l:\n",
    "    print(type(i))"
   ]
  },
  {
   "cell_type": "code",
   "execution_count": 16,
   "id": "834d84c9",
   "metadata": {},
   "outputs": [
    {
     "name": "stdout",
     "output_type": "stream",
     "text": [
      "3\n",
      "6\n",
      "7.6\n"
     ]
    }
   ],
   "source": [
    "l = [1,4,5.6]\n",
    "l1 = []\n",
    "for i in l:\n",
    "    print(i+2)\n",
    "    l1.append(i+2)"
   ]
  },
  {
   "cell_type": "code",
   "execution_count": 17,
   "id": "0b95e2ee",
   "metadata": {},
   "outputs": [
    {
     "data": {
      "text/plain": [
       "[3, 6, 7.6]"
      ]
     },
     "execution_count": 17,
     "metadata": {},
     "output_type": "execute_result"
    }
   ],
   "source": [
    "l1"
   ]
  },
  {
   "cell_type": "code",
   "execution_count": 19,
   "id": "c7713ceb",
   "metadata": {},
   "outputs": [
    {
     "name": "stdout",
     "output_type": "stream",
     "text": [
      "2\n",
      "45\n",
      "78\n",
      "12\n"
     ]
    }
   ],
   "source": [
    "l = [2,45,78,12,\"sudh\",6+7j,[56,67,78]]\n",
    "for i in l:\n",
    "    if type(i) == int:\n",
    "        print(i)"
   ]
  },
  {
   "cell_type": "code",
   "execution_count": 20,
   "id": "5332fe78",
   "metadata": {},
   "outputs": [
    {
     "name": "stdout",
     "output_type": "stream",
     "text": [
      "2\n",
      "45\n",
      "78\n",
      "12\n",
      "56\n",
      "67\n",
      "78\n"
     ]
    }
   ],
   "source": [
    "l = [2,45,78,12,\"sudh\",6+7j,[56,67,78]]\n",
    "for i in l:\n",
    "    if type(i) == int:\n",
    "        print(i)\n",
    "    elif type(i) == list:\n",
    "        for j in i:\n",
    "            if type(j) == int:\n",
    "                print(j)"
   ]
  },
  {
   "cell_type": "code",
   "execution_count": 31,
   "id": "49ad34a5",
   "metadata": {},
   "outputs": [
    {
     "name": "stdout",
     "output_type": "stream",
     "text": [
      "index: 0\n",
      "4\n",
      "index: 1\n",
      "2025\n",
      "index: 2\n",
      "6084\n",
      "index: 3\n",
      "144\n",
      "index: 4\n",
      "sudh\n",
      "index: 5\n",
      "index: 6\n"
     ]
    }
   ],
   "source": [
    "l = [2,45,78,12,\"sudh\",6+7j,[56,67,78,\"dsfsdf\"]]\n",
    "for i in l:\n",
    "    x = l.index(i)\n",
    "    print(f\"index: {x}\")\n",
    "    if type(i) == str:\n",
    "        print(i)\n",
    "    if type(i) == int:\n",
    "        print(i*i)"
   ]
  },
  {
   "cell_type": "code",
   "execution_count": 5,
   "id": "af976b27",
   "metadata": {},
   "outputs": [
    {
     "name": "stdout",
     "output_type": "stream",
     "text": [
      "index: 0\n",
      "index: 1\n",
      "index: 2\n",
      "index: 3\n",
      "index: 4\n",
      "index: 5\n",
      "index: 6\n",
      "['sudh']\n",
      "[4, 2025, 6084, 144]\n"
     ]
    }
   ],
   "source": [
    "l = [2,45,78,12,\"sudh\",6+7j,[56,67,78,\"dsfsdf\"]]\n",
    "l1 = []\n",
    "l2 = []\n",
    "for i in range(len(l)):\n",
    "    print(f\"index: {i}\")\n",
    "    if type(l[i]) == str:\n",
    "        l1.append(l[i])\n",
    "    if type(l[i]) == int:\n",
    "        l2.append(l[i]**2)\n",
    "print(l1)\n",
    "print(l2)"
   ]
  },
  {
   "cell_type": "code",
   "execution_count": 36,
   "id": "fe4b812c",
   "metadata": {},
   "outputs": [
    {
     "name": "stdout",
     "output_type": "stream",
     "text": [
      "(0, 2)\n",
      "(1, 45)\n",
      "(2, 78)\n",
      "(3, 12)\n",
      "(4, 'sudh')\n",
      "(5, (6+7j))\n",
      "(6, [56, 67, 78, 'dsfsdf'])\n"
     ]
    }
   ],
   "source": [
    "for i in enumerate(l):\n",
    "    print(i)"
   ]
  },
  {
   "cell_type": "code",
   "execution_count": null,
   "id": "5de8b6b0",
   "metadata": {},
   "outputs": [],
   "source": []
  }
 ],
 "metadata": {
  "kernelspec": {
   "display_name": "Python 3 (ipykernel)",
   "language": "python",
   "name": "python3"
  },
  "language_info": {
   "codemirror_mode": {
    "name": "ipython",
    "version": 3
   },
   "file_extension": ".py",
   "mimetype": "text/x-python",
   "name": "python",
   "nbconvert_exporter": "python",
   "pygments_lexer": "ipython3",
   "version": "3.9.7"
  }
 },
 "nbformat": 4,
 "nbformat_minor": 5
}
