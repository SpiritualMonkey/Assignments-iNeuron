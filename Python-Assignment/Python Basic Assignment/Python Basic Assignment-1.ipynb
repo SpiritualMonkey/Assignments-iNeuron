{
 "cells": [
  {
   "cell_type": "markdown",
   "id": "3a171dbb",
   "metadata": {},
   "source": [
    "1. In the below elements which of them are values or an expression? eg:- values can be integer or string and expressions will be mathematical operators.\n",
    "* \n",
    "'hello'\n",
    "-87.8\n",
    "- \n",
    "/ \n",
    "+\t\n",
    "6 \n",
    "\n",
    "Ans : \n",
    "Values : \n",
    "6 \n",
    "-87.8\n",
    "expression : \n",
    "* \n",
    "- \n",
    "/ \n",
    "+\t"
   ]
  },
  {
   "cell_type": "markdown",
   "id": "2667b36d",
   "metadata": {},
   "source": [
    "2. What is the difference between string and variable?\n",
    "\n",
    "A Variable is a store of information, and a String is a type of information you would store in a Variable."
   ]
  },
  {
   "cell_type": "markdown",
   "id": "c8866b1a",
   "metadata": {},
   "source": [
    "3. Describe three different data types.\n",
    "Interer, FLoat, List "
   ]
  },
  {
   "cell_type": "markdown",
   "id": "5b6a3384",
   "metadata": {},
   "source": [
    "4. What is an expression made up of? What do all expressions do?\n",
    "\n",
    "\n",
    "An expression is a list of operators and operands that applied in the code to get some other value. \n",
    "\n",
    "list of operation : \n",
    "Addition\n",
    "Subtraction\n",
    "Multiplication\n",
    "Division\n",
    "Quotient\n",
    "Remainder\n",
    "Exponentiation\n"
   ]
  },
  {
   "cell_type": "markdown",
   "id": "ee778ea0",
   "metadata": {},
   "source": [
    "5. This assignment statements, like spam = 10. What is the difference between an expression and a statement?\n",
    "\n",
    "Statement is an order which can be executed by python interpreter.\n",
    "a = 3\n",
    "print(a)\n",
    "\n",
    "Expression is the combination of operators, functions and variables that always produces or returns a value.\n",
    "x= 10"
   ]
  },
  {
   "cell_type": "markdown",
   "id": "f4c2e30c",
   "metadata": {},
   "source": [
    "6. After running the following code, what does the variable bacon contain?\n",
    "bacon = 22\n",
    "bacon + 1\n",
    "\n",
    "Ans : 23"
   ]
  },
  {
   "cell_type": "markdown",
   "id": "d6eb93c2",
   "metadata": {},
   "source": [
    "7. What should the values of the following two terms be?\n",
    "'spam' + 'spamspam'\n",
    "'spam' * 3\n",
    "\n",
    "\n",
    "Ans : \n",
    "spamspamspam\n",
    "spamspamspam"
   ]
  },
  {
   "cell_type": "markdown",
   "id": "8c5bfee1",
   "metadata": {},
   "source": [
    "8. Why is eggs a valid variable name while 100 is invalid?\n",
    "\n",
    "100 invaild because : A variable name cannot start with a number."
   ]
  },
  {
   "cell_type": "markdown",
   "id": "5f0e01e8",
   "metadata": {},
   "source": [
    "9. What three functions can be used to get the integer, floating-point number, or string version of a value?\n",
    "\n",
    "integer - int()\n",
    "floating-point number - float()\n",
    "string - str()"
   ]
  },
  {
   "cell_type": "markdown",
   "id": "be22a78d",
   "metadata": {},
   "source": [
    "10. Why does this expression cause an error? How can you fix it?\n",
    "\n",
    "\n",
    "'I have eaten ' + 99 + ' burritos.'\n",
    "\n",
    "Beacuse we are not allowed to concatinate string with integer.\n",
    "\n",
    "fix : 'I have eaten ' + '99' + ' burritos.'\n"
   ]
  }
 ],
 "metadata": {
  "kernelspec": {
   "display_name": "Python 3 (ipykernel)",
   "language": "python",
   "name": "python3"
  },
  "language_info": {
   "codemirror_mode": {
    "name": "ipython",
    "version": 3
   },
   "file_extension": ".py",
   "mimetype": "text/x-python",
   "name": "python",
   "nbconvert_exporter": "python",
   "pygments_lexer": "ipython3",
   "version": "3.9.7"
  }
 },
 "nbformat": 4,
 "nbformat_minor": 5
}
