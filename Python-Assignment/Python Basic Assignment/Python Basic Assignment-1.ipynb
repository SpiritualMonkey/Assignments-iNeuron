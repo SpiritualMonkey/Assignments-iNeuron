{
 "cells": [
  {
   "cell_type": "markdown",
   "id": "be36e0ea",
   "metadata": {},
   "source": [
    "# 1. In the below elements which of them are values or an expression? eg:- values can be integer or string and expressions will be mathematical operators.\n"
   ]
  },
  {
   "cell_type": "code",
   "execution_count": null,
   "id": "795535d9",
   "metadata": {},
   "outputs": [],
   "source": [
    "* \n",
    "'hello'\n",
    "-87.8\n",
    "- \n",
    "/ \n",
    "+\t\n",
    "6 \n",
    "\n",
    "Ans : \n",
    "Values : \n",
    "6 \n",
    "-87.8\n",
    "expression : \n",
    "* \n",
    "- \n",
    "/ \n",
    "+\t"
   ]
  },
  {
   "cell_type": "markdown",
   "id": "59401307",
   "metadata": {},
   "source": [
    "# 2. What is the difference between string and variable?\n",
    "\n",
    "A Variable is a store of information, and a String is a type of information you would store in a Variable."
   ]
  },
  {
   "cell_type": "markdown",
   "id": "97bcaa4e",
   "metadata": {},
   "source": [
    "# 3. Describe three different data types.\n",
    "\n",
    "Interer, FLoat, List "
   ]
  },
  {
   "cell_type": "markdown",
   "id": "f53a1d9a",
   "metadata": {},
   "source": [
    "# 4. What is an expression made up of? What do all expressions do?\n",
    "\n",
    "\n",
    "An expression is a list of operators and operands that applied in the code to get some other value. \n",
    "\n",
    "list of operation : \n",
    "Addition\n",
    "Subtraction\n",
    "Multiplication\n",
    "Division\n",
    "Quotient\n",
    "Remainder\n",
    "Exponentiation\n"
   ]
  },
  {
   "cell_type": "markdown",
   "id": "5a44f0a0",
   "metadata": {},
   "source": [
    "# 5. This assignment statements, like spam = 10. What is the difference between an expression and a statement?\n",
    "\n",
    "Statement is an order which can be executed by python interpreter.\n",
    "\n",
    "Expression is the combination of operators, functions and variables that always produces or returns a value.\n"
   ]
  },
  {
   "cell_type": "code",
   "execution_count": 1,
   "id": "d25d464b",
   "metadata": {},
   "outputs": [
    {
     "name": "stdout",
     "output_type": "stream",
     "text": [
      "3\n"
     ]
    }
   ],
   "source": [
    "a = 3 # Expresiion \n",
    "print(a) # Statement"
   ]
  },
  {
   "cell_type": "markdown",
   "id": "a08f64c5",
   "metadata": {},
   "source": [
    "# 6. After running the following code, what does the variable bacon contain?\n",
    "bacon = 22\n",
    "bacon + 1\n",
    "\n",
    "Ans : 23"
   ]
  },
  {
   "cell_type": "code",
   "execution_count": 3,
   "id": "8a8c94e5",
   "metadata": {},
   "outputs": [
    {
     "data": {
      "text/plain": [
       "23"
      ]
     },
     "execution_count": 3,
     "metadata": {},
     "output_type": "execute_result"
    }
   ],
   "source": [
    "bacon = 22\n",
    "bacon + 1"
   ]
  },
  {
   "cell_type": "markdown",
   "id": "8df0f0c8",
   "metadata": {},
   "source": [
    "# 7. What should the values of the following two terms be?\n",
    "'spam' + 'spamspam'\n",
    "'spam' * 3\n",
    "\n",
    "\n",
    "Ans : \n",
    "'spamspamspam'\n",
    "'spamspamspam'"
   ]
  },
  {
   "cell_type": "code",
   "execution_count": 4,
   "id": "f3d87d61",
   "metadata": {},
   "outputs": [
    {
     "data": {
      "text/plain": [
       "'spamspamspam'"
      ]
     },
     "execution_count": 4,
     "metadata": {},
     "output_type": "execute_result"
    }
   ],
   "source": [
    "'spam' + 'spamspam'"
   ]
  },
  {
   "cell_type": "code",
   "execution_count": 5,
   "id": "8911eaaf",
   "metadata": {},
   "outputs": [
    {
     "data": {
      "text/plain": [
       "'spamspamspam'"
      ]
     },
     "execution_count": 5,
     "metadata": {},
     "output_type": "execute_result"
    }
   ],
   "source": [
    "'spam' * 3"
   ]
  },
  {
   "cell_type": "markdown",
   "id": "b4f393fb",
   "metadata": {},
   "source": [
    "# 8. Why is eggs a valid variable name while 100 is invalid?\n",
    "\n",
    "Ans : 100 invaild because : A variable name can not start with a number. , it gives SyntaxError: invalid syntax."
   ]
  },
  {
   "cell_type": "code",
   "execution_count": 6,
   "id": "fdfc550c",
   "metadata": {},
   "outputs": [
    {
     "ename": "SyntaxError",
     "evalue": "invalid syntax (Temp/ipykernel_17488/548758586.py, line 1)",
     "output_type": "error",
     "traceback": [
      "\u001b[1;36m  File \u001b[1;32m\"C:\\Users\\rohan\\AppData\\Local\\Temp/ipykernel_17488/548758586.py\"\u001b[1;36m, line \u001b[1;32m1\u001b[0m\n\u001b[1;33m    100var = 3\u001b[0m\n\u001b[1;37m       ^\u001b[0m\n\u001b[1;31mSyntaxError\u001b[0m\u001b[1;31m:\u001b[0m invalid syntax\n"
     ]
    }
   ],
   "source": [
    "100var = 3"
   ]
  },
  {
   "cell_type": "markdown",
   "id": "969a61ca",
   "metadata": {},
   "source": [
    "# 9. What three functions can be used to get the integer, floating-point number, or string version of a value?"
   ]
  },
  {
   "cell_type": "markdown",
   "id": "9a7a6cdd",
   "metadata": {},
   "source": [
    "integer - int()\n",
    "floating-point number - float()\n",
    "string - str()"
   ]
  },
  {
   "cell_type": "markdown",
   "id": "19446c5e",
   "metadata": {},
   "source": [
    "# 10. Why does this expression cause an error? How can you fix it?\n",
    "\n",
    "\n",
    "'I have eaten ' + 99 + ' burritos.'\n",
    "\n",
    "Beacuse we are not allowed to concatinate string with integer.\n",
    "\n",
    "fix : 'I have eaten ' + '99' + ' burritos.'\n"
   ]
  },
  {
   "cell_type": "code",
   "execution_count": 8,
   "id": "bf8adbb5",
   "metadata": {},
   "outputs": [
    {
     "data": {
      "text/plain": [
       "'I have eaten 99 burritos.'"
      ]
     },
     "execution_count": 8,
     "metadata": {},
     "output_type": "execute_result"
    }
   ],
   "source": [
    "'I have eaten ' + '99' + ' burritos.'"
   ]
  }
 ],
 "metadata": {
  "kernelspec": {
   "display_name": "Python 3 (ipykernel)",
   "language": "python",
   "name": "python3"
  },
  "language_info": {
   "codemirror_mode": {
    "name": "ipython",
    "version": 3
   },
   "file_extension": ".py",
   "mimetype": "text/x-python",
   "name": "python",
   "nbconvert_exporter": "python",
   "pygments_lexer": "ipython3",
   "version": "3.9.7"
  }
 },
 "nbformat": 4,
 "nbformat_minor": 5
}
