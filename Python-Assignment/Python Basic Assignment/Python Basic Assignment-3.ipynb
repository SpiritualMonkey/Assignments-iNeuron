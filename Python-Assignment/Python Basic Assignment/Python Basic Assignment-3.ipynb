{
 "cells": [
  {
   "cell_type": "markdown",
   "id": "8b9a5b13",
   "metadata": {},
   "source": [
    "# 1. Why are functions advantageous to have in your programs?\n",
    "\n",
    "Advantages of functions:\n",
    "1. Reduces repetition of code\n",
    "2. You can choose the input and for different input the outcome would be different.\n",
    "3. Makes the code,easy to read and understand"
   ]
  },
  {
   "cell_type": "markdown",
   "id": "8e4738e1",
   "metadata": {},
   "source": [
    "# 2. When does the code in a function run: when it's specified or when it's called?\n",
    "\n",
    "\n",
    "Any function runs only when it is called by putting parenthesis() at the end of the function name. "
   ]
  },
  {
   "cell_type": "markdown",
   "id": "8846f72d",
   "metadata": {},
   "source": [
    "# 3. What statement creates a function?\n",
    "\n",
    "def statement creates a function."
   ]
  },
  {
   "cell_type": "markdown",
   "id": "d983a0a6",
   "metadata": {},
   "source": [
    "# 4. What is the difference between a function and a function call?\n",
    "\n",
    "A function call is invoking or calling that function. \n",
    "Vs \n",
    "A function is procedure to achieve a particular result and the result depends upon the input if it is required. if not then \n",
    "the function's output would be the same."
   ]
  },
  {
   "cell_type": "markdown",
   "id": "d32ecc9c",
   "metadata": {},
   "source": [
    "# 5. How many global scopes are there in a Python program? How many local scopes?\n",
    "\n",
    "Global scope: The names that you define in this scope are available to all your code.\n",
    "\n",
    "Local scope: The names that you define in this scope are only available or visible to the code within the scope.\n",
    "\n",
    "We get one global scope, and a local scope is created whenever a function is called.\n",
    "\n",
    "Apart from that there is also two kind of scopes : enclosing and builtin scopes"
   ]
  },
  {
   "cell_type": "markdown",
   "id": "e992b95f",
   "metadata": {},
   "source": [
    "# 6. What happens to variables in a local scope when the function call returns?\n",
    "\n",
    "\n",
    "After the function is executed the python interpreter does not consider local scope or in other words it is destroyed.\n"
   ]
  },
  {
   "cell_type": "markdown",
   "id": "4d2f6a1e",
   "metadata": {},
   "source": [
    "# 7. What is the concept of a return value? Is it possible to have a return value in an expression?\n",
    "\n",
    "\n",
    "A return statement is used to end the execution of the function call and “returns” the result of the function.\n",
    "\n",
    "Yes it is possible to have a expression as return value.\n"
   ]
  },
  {
   "cell_type": "markdown",
   "id": "b4de50d9",
   "metadata": {},
   "source": [
    "# 8. If a function does not have a return statement, what is the return value of a call to that function?\n",
    "\n",
    "If no return statement is specified then it returns None.\n"
   ]
  },
  {
   "cell_type": "code",
   "execution_count": 10,
   "id": "b17864a3",
   "metadata": {},
   "outputs": [
    {
     "name": "stdout",
     "output_type": "stream",
     "text": [
      "6\n",
      "None\n"
     ]
    }
   ],
   "source": [
    "def add(a,b):\n",
    "    c = a*b\n",
    "    print (c)\n",
    "    \n",
    "d = add(2,3)\n",
    "print(d)"
   ]
  },
  {
   "cell_type": "markdown",
   "id": "9c37d24a",
   "metadata": {},
   "source": [
    "# 9. How do you make a function variable refer to the global variable?\n",
    "\n",
    "We have to use the global keyword in the function with the variable name.\n",
    "\n"
   ]
  },
  {
   "cell_type": "code",
   "execution_count": 2,
   "id": "1f313901",
   "metadata": {},
   "outputs": [
    {
     "name": "stdout",
     "output_type": "stream",
     "text": [
      "8\n"
     ]
    }
   ],
   "source": [
    "x=2\n",
    "def add(a,b):\n",
    "    global x \n",
    "    c = a*b+x\n",
    "    print (c)\n",
    "\n",
    "add(2,3)"
   ]
  },
  {
   "cell_type": "markdown",
   "id": "d8846a61",
   "metadata": {},
   "source": [
    "# 10. What is the data type of None?\n",
    "\n",
    "None is not the same as 0, False, or an empty string,the data type is Nonetype.\n"
   ]
  },
  {
   "cell_type": "markdown",
   "id": "1e541a56",
   "metadata": {},
   "source": [
    "# 11. What does the sentence import areallyourpetsnamederic do?\n",
    "\n",
    "The import areallyourpetsnamederic helps you to import the module named areallyourpetsnamederic."
   ]
  },
  {
   "cell_type": "markdown",
   "id": "bfcfcd4a",
   "metadata": {},
   "source": [
    "# 12. If you had a bacon() feature in a spam module, what would you call it after importing spam?\n",
    "\n",
    "We can import the spam module and whenever we have to use the feature becon we have to use spam.becon().\n",
    "\n",
    "Eg.  \n",
    "\n",
    "import spam\n",
    "becon = spam.becon()"
   ]
  },
  {
   "cell_type": "markdown",
   "id": "a674e879",
   "metadata": {},
   "source": [
    "# 13. What can you do to save a programme from crashing if it encounters an error?\n",
    "\n",
    "You can use the try,except,else,finally blockes.\n"
   ]
  },
  {
   "cell_type": "markdown",
   "id": "a55107a8",
   "metadata": {},
   "source": [
    "# 14. What is the purpose of the try clause? What is the purpose of the except clause?\n",
    "\n",
    "The try block lets you test a block of code for errors.\n",
    "\n",
    "The except block lets you handle the error."
   ]
  }
 ],
 "metadata": {
  "kernelspec": {
   "display_name": "Python 3 (ipykernel)",
   "language": "python",
   "name": "python3"
  },
  "language_info": {
   "codemirror_mode": {
    "name": "ipython",
    "version": 3
   },
   "file_extension": ".py",
   "mimetype": "text/x-python",
   "name": "python",
   "nbconvert_exporter": "python",
   "pygments_lexer": "ipython3",
   "version": "3.9.7"
  }
 },
 "nbformat": 4,
 "nbformat_minor": 5
}
