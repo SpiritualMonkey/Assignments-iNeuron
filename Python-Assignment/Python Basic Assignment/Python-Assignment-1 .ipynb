{
 "cells": [
  {
   "cell_type": "raw",
   "id": "023ec67d",
   "metadata": {},
   "source": [
    "1. In the below elements which of them are values or an expression? eg:- values can be integer or string and expressions will be mathematical operators.\n",
    "* \n",
    "'hello'\n",
    "-87.8\n",
    "- \n",
    "/ \n",
    "+\t\n",
    "6 \n",
    "\n",
    "Ans : \n",
    "Values : \n",
    "6 \n",
    "-87.8\n",
    "expression : \n",
    "* \n",
    "- \n",
    "/ \n",
    "+\t"
   ]
  },
  {
   "cell_type": "raw",
   "id": "3e97a4b6",
   "metadata": {},
   "source": [
    "2. What is the difference between string and variable?\n",
    "\n",
    "A Variable is a store of information, and a String is a type of information you would store in a Variable."
   ]
  },
  {
   "cell_type": "code",
   "execution_count": null,
   "id": "3b446f59",
   "metadata": {},
   "outputs": [],
   "source": [
    "3. Describe three different data types.\n",
    "Interer, FLoat, List "
   ]
  },
  {
   "cell_type": "raw",
   "id": "ac627ea7",
   "metadata": {},
   "source": [
    "4. What is an expression made up of? What do all expressions do?\n",
    "\n",
    "\n",
    "An expression is a list of operators and operands that applied in the code to get some other value. \n",
    "\n",
    "list of operation : \n",
    "Addition\n",
    "Subtraction\n",
    "Multiplication\n",
    "Division\n",
    "Quotient\n",
    "Remainder\n",
    "Exponentiation\n"
   ]
  },
  {
   "cell_type": "raw",
   "id": "fbc32962",
   "metadata": {},
   "source": [
    "5. This assignment statements, like spam = 10. What is the difference between an expression and a statement?\n",
    "\n",
    "Statement is an order which can be executed by python interpreter.\n",
    "a = 3\n",
    "print(a)\n",
    "\n",
    "Expression is the combination of operators, functions and variables that always produces or returns a value.\n",
    "x= 10"
   ]
  },
  {
   "cell_type": "raw",
   "id": "f10a7ad7",
   "metadata": {},
   "source": [
    "6. After running the following code, what does the variable bacon contain?\n",
    "bacon = 22\n",
    "bacon + 1\n",
    "\n",
    "Ans : 23"
   ]
  },
  {
   "cell_type": "raw",
   "id": "c3a389f1",
   "metadata": {},
   "source": [
    "7. What should the values of the following two terms be?\n",
    "'spam' + 'spamspam'\n",
    "'spam' * 3\n",
    "\n",
    "\n",
    "Ans : \n",
    "spamspamspam\n",
    "spamspamspam"
   ]
  },
  {
   "cell_type": "raw",
   "id": "00f341b8",
   "metadata": {},
   "source": [
    "8. Why is eggs a valid variable name while 100 is invalid?\n",
    "\n",
    "100 invaild because : A variable name cannot start with a number."
   ]
  },
  {
   "cell_type": "raw",
   "id": "ae1b76d7",
   "metadata": {},
   "source": [
    "9. What three functions can be used to get the integer, floating-point number, or string version of a value?\n",
    "\n",
    "integer - int()\n",
    "floating-point number - float()\n",
    "string - str()"
   ]
  },
  {
   "cell_type": "raw",
   "id": "4062ee26",
   "metadata": {},
   "source": [
    "10. Why does this expression cause an error? How can you fix it?\n",
    "\n",
    "\n",
    "'I have eaten ' + 99 + ' burritos.'\n",
    "\n",
    "Beacuse we are not allowed to concatinate string with integer.\n",
    "\n",
    "fix : 'I have eaten ' + '99' + ' burritos.'\n"
   ]
  },
  {
   "cell_type": "code",
   "execution_count": 15,
   "id": "97cc4d2f",
   "metadata": {},
   "outputs": [
    {
     "data": {
      "text/plain": [
       "'I have eaten 99 burritos.'"
      ]
     },
     "execution_count": 15,
     "metadata": {},
     "output_type": "execute_result"
    }
   ],
   "source": [
    "'I have eaten ' + '99' + ' burritos.'"
   ]
  },
  {
   "cell_type": "code",
   "execution_count": null,
   "id": "e1db45ac",
   "metadata": {},
   "outputs": [],
   "source": []
  }
 ],
 "metadata": {
  "kernelspec": {
   "display_name": "Python 3 (ipykernel)",
   "language": "python",
   "name": "python3"
  },
  "language_info": {
   "codemirror_mode": {
    "name": "ipython",
    "version": 3
   },
   "file_extension": ".py",
   "mimetype": "text/x-python",
   "name": "python",
   "nbconvert_exporter": "python",
   "pygments_lexer": "ipython3",
   "version": "3.9.7"
  }
 },
 "nbformat": 4,
 "nbformat_minor": 5
}
