{
 "cells": [
  {
   "cell_type": "raw",
   "id": "a25cd50a",
   "metadata": {},
   "source": [
    "1.\tWrite a Python program to print \"Hello Python\"?\n",
    "2.\tWrite a Python program to do arithmetical operations addition and division.?\n",
    "3.\tWrite a Python program to find the area of a triangle?\n",
    "4.\tWrite a Python program to swap two variables?\n",
    "5.\tWrite a Python program to generate a random number?"
   ]
  },
  {
   "cell_type": "markdown",
   "id": "a70bf6b4",
   "metadata": {},
   "source": [
    "# Write a Python program to print \"Hello Python\"?"
   ]
  },
  {
   "cell_type": "code",
   "execution_count": 1,
   "id": "19e83b5a",
   "metadata": {},
   "outputs": [
    {
     "name": "stdout",
     "output_type": "stream",
     "text": [
      "Hello Python\n"
     ]
    }
   ],
   "source": [
    "print(\"Hello Python\")"
   ]
  },
  {
   "cell_type": "markdown",
   "id": "b0fe3551",
   "metadata": {},
   "source": [
    "# Write a Python program to do arithmetical operations addition and division.?"
   ]
  },
  {
   "cell_type": "code",
   "execution_count": 2,
   "id": "17c8588b",
   "metadata": {},
   "outputs": [],
   "source": [
    "def add(a,b):\n",
    "    return a+b\n",
    "\n",
    "def div(a,b):\n",
    "    return a/b"
   ]
  },
  {
   "cell_type": "code",
   "execution_count": 3,
   "id": "c7601bbe",
   "metadata": {},
   "outputs": [
    {
     "data": {
      "text/plain": [
       "5"
      ]
     },
     "execution_count": 3,
     "metadata": {},
     "output_type": "execute_result"
    }
   ],
   "source": [
    "add(2,3)"
   ]
  },
  {
   "cell_type": "code",
   "execution_count": 5,
   "id": "b0dc345c",
   "metadata": {},
   "outputs": [
    {
     "data": {
      "text/plain": [
       "2.0"
      ]
     },
     "execution_count": 5,
     "metadata": {},
     "output_type": "execute_result"
    }
   ],
   "source": [
    "div(10,5)"
   ]
  },
  {
   "cell_type": "markdown",
   "id": "ad983f65",
   "metadata": {},
   "source": [
    "# Write a Python program to find the area of a triangle?"
   ]
  },
  {
   "cell_type": "code",
   "execution_count": 7,
   "id": "aa819069",
   "metadata": {},
   "outputs": [],
   "source": [
    "def area_triangle(base,height):\n",
    "    return (base*height)/2"
   ]
  },
  {
   "cell_type": "code",
   "execution_count": 8,
   "id": "ab15ef81",
   "metadata": {},
   "outputs": [
    {
     "data": {
      "text/plain": [
       "6.0"
      ]
     },
     "execution_count": 8,
     "metadata": {},
     "output_type": "execute_result"
    }
   ],
   "source": [
    "area_triangle(4,3)"
   ]
  },
  {
   "cell_type": "markdown",
   "id": "75e011d4",
   "metadata": {},
   "source": [
    "# Write a Python program to swap two variables?"
   ]
  },
  {
   "cell_type": "code",
   "execution_count": 4,
   "id": "6a24c6ac",
   "metadata": {},
   "outputs": [
    {
     "name": "stdout",
     "output_type": "stream",
     "text": [
      "Enter value for a:4\n",
      "Enter value for b:5\n",
      "Swapped value of a is 5 and b is 4\n"
     ]
    }
   ],
   "source": [
    "a = int(input(\"Enter value for a:\"))\n",
    "b = int(input(\"Enter value for b:\"))\n",
    "x = a\n",
    "a = b\n",
    "b = x\n",
    "print(f\"Swapped value of a is {a} and b is {b}\")"
   ]
  },
  {
   "cell_type": "markdown",
   "id": "26b7fdd7",
   "metadata": {},
   "source": [
    "# Write a Python program to generate a random number?"
   ]
  },
  {
   "cell_type": "code",
   "execution_count": 3,
   "id": "a2e9ad04",
   "metadata": {},
   "outputs": [
    {
     "data": {
      "text/plain": [
       "0.205934404645839"
      ]
     },
     "execution_count": 3,
     "metadata": {},
     "output_type": "execute_result"
    }
   ],
   "source": [
    "import random\n",
    "random.random()"
   ]
  }
 ],
 "metadata": {
  "kernelspec": {
   "display_name": "Python 3 (ipykernel)",
   "language": "python",
   "name": "python3"
  },
  "language_info": {
   "codemirror_mode": {
    "name": "ipython",
    "version": 3
   },
   "file_extension": ".py",
   "mimetype": "text/x-python",
   "name": "python",
   "nbconvert_exporter": "python",
   "pygments_lexer": "ipython3",
   "version": "3.9.7"
  }
 },
 "nbformat": 4,
 "nbformat_minor": 5
}
