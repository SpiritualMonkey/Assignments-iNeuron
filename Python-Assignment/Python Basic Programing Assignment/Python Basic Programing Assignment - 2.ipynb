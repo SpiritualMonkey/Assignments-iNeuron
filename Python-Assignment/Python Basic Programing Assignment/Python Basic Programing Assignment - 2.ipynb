{
 "cells": [
  {
   "cell_type": "code",
   "execution_count": null,
   "id": "e4786717",
   "metadata": {},
   "outputs": [],
   "source": [
    "1.\tWrite a Python program to convert kilometers to miles?\n",
    "2.\tWrite a Python program to convert Celsius to Fahrenheit?\n",
    "3.\tWrite a Python program to display calendar?\n",
    "4.\tWrite a Python program to solve quadratic equation?\n",
    "5.\tWrite a Python program to swap two variables without temp variable?\n"
   ]
  },
  {
   "cell_type": "markdown",
   "id": "d494d450",
   "metadata": {},
   "source": [
    "# Write a Python program to convert kilometers to miles?"
   ]
  },
  {
   "cell_type": "code",
   "execution_count": 18,
   "id": "9d87b0f8",
   "metadata": {},
   "outputs": [],
   "source": [
    "def km_to_mile():\n",
    "    a = float(input(\"Km : \"))\n",
    "    x = a * 0.62\n",
    "    return (f\"{a} Km = {x} Miles\")"
   ]
  },
  {
   "cell_type": "code",
   "execution_count": 19,
   "id": "5948eb64",
   "metadata": {},
   "outputs": [
    {
     "name": "stdout",
     "output_type": "stream",
     "text": [
      "Km : 10\n"
     ]
    },
    {
     "data": {
      "text/plain": [
       "'10.0 Km = 6.2 Miles'"
      ]
     },
     "execution_count": 19,
     "metadata": {},
     "output_type": "execute_result"
    }
   ],
   "source": [
    "km_to_mile()"
   ]
  },
  {
   "cell_type": "markdown",
   "id": "9bbbebcc",
   "metadata": {},
   "source": [
    "# Write a Python program to convert Celsius to Fahrenheit?"
   ]
  },
  {
   "cell_type": "code",
   "execution_count": 27,
   "id": "69d0efb4",
   "metadata": {},
   "outputs": [],
   "source": [
    "def C_to_F():\n",
    "    c = float(input(\"Celsius temp: \"))\n",
    "    return f\"Fahrenheit temp :{(c * 1.8) + 32}\""
   ]
  },
  {
   "cell_type": "code",
   "execution_count": 28,
   "id": "d62971a9",
   "metadata": {},
   "outputs": [
    {
     "name": "stdout",
     "output_type": "stream",
     "text": [
      "Celsius temp: 100\n"
     ]
    },
    {
     "data": {
      "text/plain": [
       "'Fahrenheit temp :212.0'"
      ]
     },
     "execution_count": 28,
     "metadata": {},
     "output_type": "execute_result"
    }
   ],
   "source": [
    "C_to_F()"
   ]
  },
  {
   "cell_type": "markdown",
   "id": "00e93322",
   "metadata": {},
   "source": [
    "# Write a Python program to display calendar?"
   ]
  },
  {
   "cell_type": "code",
   "execution_count": 47,
   "id": "61b25174",
   "metadata": {},
   "outputs": [
    {
     "name": "stdout",
     "output_type": "stream",
     "text": [
      "   February 2022\n",
      "Mo Tu We Th Fr Sa Su\n",
      "    1  2  3  4  5  6\n",
      " 7  8  9 10 11 12 13\n",
      "14 15 16 17 18 19 20\n",
      "21 22 23 24 25 26 27\n",
      "28\n",
      "\n"
     ]
    }
   ],
   "source": [
    "import calendar\n",
    "\n",
    "import time\n",
    "\n",
    "year = int(time.strftime(\"%Y\"))\n",
    " \n",
    "month = int(time.strftime(\"%m\"))\n",
    "\n",
    "print(calendar.month(year, month))"
   ]
  },
  {
   "cell_type": "markdown",
   "id": "d731792a",
   "metadata": {},
   "source": [
    "# Write a Python program to solve quadratic equation?"
   ]
  },
  {
   "cell_type": "code",
   "execution_count": 57,
   "id": "b8eb2444",
   "metadata": {},
   "outputs": [],
   "source": [
    "def quad_formula():\n",
    "    import math \n",
    "    a = int(input(\"a : \"))\n",
    "    b = int(input(\"b : \"))\n",
    "    c = int(input(\"c : \"))\n",
    "    q = math.sqrt(b*b-4*a*c)\n",
    "    x = [(-b + q)/(2*a) ,(-b - q)/(2*a)]\n",
    "    return x"
   ]
  },
  {
   "cell_type": "code",
   "execution_count": 59,
   "id": "d3c88ef5",
   "metadata": {},
   "outputs": [
    {
     "name": "stdout",
     "output_type": "stream",
     "text": [
      "a : 1\n",
      "b : 2\n",
      "c : -3\n"
     ]
    },
    {
     "data": {
      "text/plain": [
       "[1.0, -3.0]"
      ]
     },
     "execution_count": 59,
     "metadata": {},
     "output_type": "execute_result"
    }
   ],
   "source": [
    "quad_formula()"
   ]
  },
  {
   "cell_type": "markdown",
   "id": "8df12afe",
   "metadata": {},
   "source": [
    "# Write a Python program to swap two variables without temp variable?"
   ]
  },
  {
   "cell_type": "code",
   "execution_count": 60,
   "id": "9b0e8cc9",
   "metadata": {},
   "outputs": [
    {
     "name": "stdout",
     "output_type": "stream",
     "text": [
      "Enter value for a:3\n",
      "Enter value for b:4\n",
      "Swapped value of a is 4 and b is 3\n"
     ]
    }
   ],
   "source": [
    "a = int(input(\"Enter value for a:\"))\n",
    "b = int(input(\"Enter value for b:\"))\n",
    "a,b = b,a\n",
    "print(f\"Swapped value of a is {a} and b is {b}\")"
   ]
  },
  {
   "cell_type": "code",
   "execution_count": null,
   "id": "fc98f1a9",
   "metadata": {},
   "outputs": [],
   "source": []
  }
 ],
 "metadata": {
  "kernelspec": {
   "display_name": "Python 3 (ipykernel)",
   "language": "python",
   "name": "python3"
  },
  "language_info": {
   "codemirror_mode": {
    "name": "ipython",
    "version": 3
   },
   "file_extension": ".py",
   "mimetype": "text/x-python",
   "name": "python",
   "nbconvert_exporter": "python",
   "pygments_lexer": "ipython3",
   "version": "3.9.7"
  }
 },
 "nbformat": 4,
 "nbformat_minor": 5
}
