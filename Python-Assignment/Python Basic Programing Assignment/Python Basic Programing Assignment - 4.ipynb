{
 "cells": [
  {
   "cell_type": "raw",
   "id": "21d79e7d",
   "metadata": {},
   "source": [
    "1.\tWrite a Python Program to Find the Factorial of a Number?\n",
    "2.\tWrite a Python Program to Display the multiplication Table?\n",
    "3.\tWrite a Python Program to Print the Fibonacci sequence?\n",
    "4.\tWrite a Python Program to Check Armstrong Number?\n",
    "5.\tWrite a Python Program to Find Armstrong Number in an Interval?\n",
    "6.\tWrite a Python Program to Find the Sum of Natural Numbers?"
   ]
  },
  {
   "cell_type": "markdown",
   "id": "d0fec1d2",
   "metadata": {},
   "source": [
    "# Write a Python Program to Find the Factorial of a Number?"
   ]
  },
  {
   "cell_type": "code",
   "execution_count": 14,
   "id": "4c98f297",
   "metadata": {},
   "outputs": [],
   "source": [
    "def factorial():\n",
    "    result = 1\n",
    "    x = int(input(\"Please input the number : \"))\n",
    "    for i in range(1,x+1):\n",
    "        result *= i\n",
    "    print(f\"The factorial of {x} is {result}\")"
   ]
  },
  {
   "cell_type": "code",
   "execution_count": 16,
   "id": "0769fa08",
   "metadata": {},
   "outputs": [
    {
     "name": "stdout",
     "output_type": "stream",
     "text": [
      "Please input the number : 10\n",
      "The factorial of 10 is 3628800\n"
     ]
    }
   ],
   "source": [
    "factorial()"
   ]
  },
  {
   "cell_type": "markdown",
   "id": "bf77ce24",
   "metadata": {},
   "source": [
    "# Write a Python Program to Display the multiplication Table?"
   ]
  },
  {
   "cell_type": "code",
   "execution_count": 17,
   "id": "9be41eef",
   "metadata": {},
   "outputs": [],
   "source": [
    "def multiplication_table():\n",
    "    x = int(input(\"Please input the number : \"))\n",
    "    for i in range(1,10+1):\n",
    "        print(f\"{i} * {x} = {i*x}\")"
   ]
  },
  {
   "cell_type": "code",
   "execution_count": 18,
   "id": "46230c9d",
   "metadata": {},
   "outputs": [
    {
     "name": "stdout",
     "output_type": "stream",
     "text": [
      "Please input the number : 10\n",
      "1 * 10 = 10\n",
      "2 * 10 = 20\n",
      "3 * 10 = 30\n",
      "4 * 10 = 40\n",
      "5 * 10 = 50\n",
      "6 * 10 = 60\n",
      "7 * 10 = 70\n",
      "8 * 10 = 80\n",
      "9 * 10 = 90\n",
      "10 * 10 = 100\n"
     ]
    }
   ],
   "source": [
    "multiplication_table()"
   ]
  },
  {
   "cell_type": "markdown",
   "id": "534f0c66",
   "metadata": {},
   "source": [
    "# Write a Python Program to Print the Fibonacci sequence?"
   ]
  },
  {
   "cell_type": "code",
   "execution_count": 92,
   "id": "28d53cd2",
   "metadata": {},
   "outputs": [],
   "source": [
    "def fibonacci_seq():\n",
    "    result = [0,]\n",
    "    x = int(input(\"Please input the number till which you want the fibonacci_seq : \"))\n",
    "    run = True\n",
    "    prev = 0\n",
    "    next = 1\n",
    "    while run:\n",
    "        result.append(next)\n",
    "        prev,next = next,prev + next \n",
    "        if x < next:\n",
    "            run = False\n",
    "    print(result)"
   ]
  },
  {
   "cell_type": "code",
   "execution_count": 93,
   "id": "d1948786",
   "metadata": {},
   "outputs": [
    {
     "name": "stdout",
     "output_type": "stream",
     "text": [
      "Please input the number till which you want the fibonacci_seq : 100\n",
      "[0, 1, 1, 2, 3, 5, 8, 13, 21, 34, 55, 89]\n"
     ]
    }
   ],
   "source": [
    "fibonacci_seq()"
   ]
  },
  {
   "cell_type": "code",
   "execution_count": null,
   "id": "d468e63b",
   "metadata": {},
   "outputs": [],
   "source": []
  },
  {
   "cell_type": "markdown",
   "id": "0c05f355",
   "metadata": {},
   "source": [
    "# Write a Python Program to Check Armstrong Number?"
   ]
  },
  {
   "cell_type": "code",
   "execution_count": 52,
   "id": "2594ba81",
   "metadata": {},
   "outputs": [],
   "source": [
    "def amstrong_number_chk():    \n",
    "    x = input(\"Please input the number : \")\n",
    "    num_count = int(len(x))\n",
    "    sum = 0\n",
    "    amstrong_number = None\n",
    "    # print(num_count)\n",
    "    for i in x:\n",
    "    #     print(i)\n",
    "        sum = sum + (int(i) ** num_count)\n",
    "    #     print(sum)\n",
    "        if sum == int(x):\n",
    "            amstrong_number = True\n",
    "\n",
    "    if amstrong_number == True:\n",
    "        print(\"It is a amstrong number\")\n",
    "    else:\n",
    "        print(\"It is not a amstrong number\")"
   ]
  },
  {
   "cell_type": "code",
   "execution_count": 53,
   "id": "d4a8a311",
   "metadata": {},
   "outputs": [
    {
     "name": "stdout",
     "output_type": "stream",
     "text": [
      "Please input the number : 371\n",
      "It is a amstrong number\n"
     ]
    }
   ],
   "source": [
    "amstrong_number_chk()"
   ]
  },
  {
   "cell_type": "code",
   "execution_count": 54,
   "id": "cc29ef20",
   "metadata": {},
   "outputs": [
    {
     "name": "stdout",
     "output_type": "stream",
     "text": [
      "Please input the number : 100\n",
      "It is not a amstrong number\n"
     ]
    }
   ],
   "source": [
    "amstrong_number_chk()"
   ]
  },
  {
   "cell_type": "markdown",
   "id": "5119ae25",
   "metadata": {},
   "source": [
    "# Write a Python Program to Find Armstrong Number in an Interval?"
   ]
  },
  {
   "cell_type": "code",
   "execution_count": 86,
   "id": "8abbb6a5",
   "metadata": {},
   "outputs": [],
   "source": [
    "def amstrong_number_chk_interval():    \n",
    "    x = int(input(\"Please input the lowerbound number : \"))\n",
    "    y = int(input(\"Please input the uppperbound number : \"))\n",
    "    for i in range(x,y+1):\n",
    "        sum = 0\n",
    "        num_count = int(len(str(i)))\n",
    "        amstrong_number = False\n",
    "        for j in str(i):\n",
    "            sum += (int(j) ** num_count)\n",
    "            if sum == int(i):\n",
    "                amstrong_number = True\n",
    "        \n",
    "        \n",
    "        if amstrong_number == True:\n",
    "            print(f\"{i} is a amstrong number\")\n",
    "   \n",
    "    \n",
    " \n",
    "    "
   ]
  },
  {
   "cell_type": "code",
   "execution_count": 87,
   "id": "d711bb6b",
   "metadata": {},
   "outputs": [
    {
     "name": "stdout",
     "output_type": "stream",
     "text": [
      "Please input the lowerbound number : 300\n",
      "Please input the uppperbound number : 400\n",
      "370 is a amstrong number\n",
      "371 is a amstrong number\n"
     ]
    }
   ],
   "source": [
    "amstrong_number_chk_interval()"
   ]
  },
  {
   "cell_type": "markdown",
   "id": "fab3fdee",
   "metadata": {},
   "source": [
    "# Write a Python Program to Find the Sum of Natural Numbers?"
   ]
  },
  {
   "cell_type": "code",
   "execution_count": 63,
   "id": "f3d346c7",
   "metadata": {},
   "outputs": [],
   "source": [
    "def sum_natural_num():    \n",
    "    x = int(input(\"Please input the natural upperbound number : \"))\n",
    "    print((x*(x+1))/2)"
   ]
  },
  {
   "cell_type": "code",
   "execution_count": 60,
   "id": "5803b784",
   "metadata": {},
   "outputs": [
    {
     "name": "stdout",
     "output_type": "stream",
     "text": [
      "Please input the natural upperbound number : 10\n",
      "55.0\n"
     ]
    }
   ],
   "source": [
    "sum_natural_num()"
   ]
  },
  {
   "cell_type": "code",
   "execution_count": null,
   "id": "dea2cc41",
   "metadata": {},
   "outputs": [],
   "source": []
  },
  {
   "cell_type": "code",
   "execution_count": null,
   "id": "ba7a0a5d",
   "metadata": {},
   "outputs": [],
   "source": []
  }
 ],
 "metadata": {
  "kernelspec": {
   "display_name": "Python 3 (ipykernel)",
   "language": "python",
   "name": "python3"
  },
  "language_info": {
   "codemirror_mode": {
    "name": "ipython",
    "version": 3
   },
   "file_extension": ".py",
   "mimetype": "text/x-python",
   "name": "python",
   "nbconvert_exporter": "python",
   "pygments_lexer": "ipython3",
   "version": "3.9.7"
  }
 },
 "nbformat": 4,
 "nbformat_minor": 5
}
